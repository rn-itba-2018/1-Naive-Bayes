{
 "cells": [
  {
   "cell_type": "markdown",
   "metadata": {},
   "source": [
    "# Teorema de Bayes\n",
    "\n",
    "Analicemos el siguiente diagrama:\n",
    "\n",
    "![Diagrama de Venn](venn.png \"Probabilidades de A y B\")\n",
    "\n",
    "Recordemos:\n",
    "\n",
    "$P(A)$: Probabilidad de que ocurra un evento A.  \n",
    "$P(B)$: Probabilidad de que ocurra un evento B.  \n",
    "$P(A\\cap B)$: Probabilidad de que ocurran los eventos A y B en simultáneo. Si son independientes: $P(A\\cap B)=P(A).P(B)$.  \n",
    "\n",
    "$P(A|B)$: Probabilidad de que haya ocurrido el evento A,si sabemos que ocurrió el evento B. Si son independientes: $P(A|B)=\\frac{P(A\\cap B)}{P(B)}$.\n",
    "\n",
    "También podemos analizar qué pasa para el caso de $P(B|A)$, es decir, la probabilidad de que haya ocurrido el evento B, si sabemos que ocurrió el evento A. Si son independientes: $P(B|A)=\\frac{P(B\\cap A)}{P(A)}$\n",
    "\n",
    "Igualando $P(B\\cap A)$ con $P(A\\cap B)$ nos queda:\n",
    "\n",
    "$P(A|B).P(B)=P(B|A).P(A)$\n",
    "\n",
    "Despejando:\n",
    "\n",
    "$$P(B|A)=\\frac{P(A|B).P(B)}{P(A)}$$\n",
    "\n",
    "A la ecuación anterior se la conoce como corolario del Teorema de Bayes. Es de particular interés en el ámbito de Machine Learning ya que a partir de un conjunto de observaciones nos permite estimar qué modelo dió origen a dichas observaciones.\n",
    "\n",
    "Supongamos que tenemos causas $B_i$ y  efectos $A_k$. Las $B_i$ causas, pueden generar $A_k$ efectos.\n",
    "\n",
    "Los efectos $A_k$ son exhaustivos es decir: $\\sum_kP(A_k)=1$.\n",
    "Las causas $B_i$ también son exhaustivas.\n",
    "\n",
    "$P(B_i)$ es la probabilidad de que se dé la causa $B_i$.\n",
    "$P(A_k)$ es la probabilidad de haber medido el efecto $A_k$.\n",
    "\n",
    "Un ejemplo:\n",
    "\n",
    "Tengo una bolsa con cinco monedas del tipo 1, cuya $p_h=0.3$, tres monedas del tipo 2, con $p_h=0.5$ y dos monedas del tipo 3, con  $p_h=0.8$.\n",
    "\n",
    "Es decir, la distribución de probabilidad de medir el efecto A (que salga H o T) estará condicionada por la causa B (usar una moneda de tipo 1, 2 o 3).\n",
    "\n",
    "$P(B_i)$ Es la probabilidad de sacar de la bolsa una moneda tipo $i$. Por lo tanto:\n",
    "\n",
    "$P(B_1)=0.5$, $P(B_2)=0.3$ y $P(B_3)=0.2$\n",
    "\n",
    "Supongamos ahora que las monedas son indistinguibles entre sí y solo tengo el dato de las $P(B_i)$. Una forma de sacar una moneda al azar de la bolsa y determinar a qué tipo pertenece, es tirarla n veces y hacerme la siguiente pregunta:\n",
    "\n",
    "¿Qué probabilidad hay de haber sacado una moneda del tipo 1 y haber obtenido este resultado? ¿Y de haber sacado una moneda del tipo 2 y haber obtenido este resultado? ¿Y tipo 3?\n",
    "\n",
    "Es decir nos interesa estimar las probabilidades $P(B_1|A_k)$, $P(B_2|A_k)$ y $P(B_3|A_k)$.\n",
    "\n",
    "Nuevamente: $P(B_1|A_k)$ puede leerse como \"La probabilidad de haber sacado una moneda del tipo 1 si el resultado de arrojarla n veces fue $A_k$. Si calculamos todos los $P(B_i|A_k)$ podemos compararlos entre sí y decir que la causa $B_i$ fue aquella que tiene la probabilidad $P(B_i|A_k)$ mas alta.\n",
    "\n",
    "Si aplicamos el Teorema de Bayes:\n",
    "\n",
    "$$P(B_i|A_k)=\\frac{P(A_k|B_i).P(B_i)}{P(A_k)}$$\n",
    "\n",
    "Si sólo nos interesa comparar las $P(B_i|A_k)$ para saber cuál es la causa mas probable, podemos evitar calcular $P(A_k)$ ya que es el mismo para todas las $P(B_i|A_k)$ y solo comparar los numeradores. Podemos definir:\n",
    "\n",
    "$$\\mathcal{L}_i=P(A_k|B_i).P(B_i)$$\n",
    "V"
   ]
  },
  {
   "cell_type": "code",
   "execution_count": null,
   "metadata": {
    "collapsed": true
   },
   "outputs": [],
   "source": []
  }
 ],
 "metadata": {
  "kernelspec": {
   "display_name": "Python 3",
   "language": "python",
   "name": "python3"
  },
  "language_info": {
   "codemirror_mode": {
    "name": "ipython",
    "version": 3
   },
   "file_extension": ".py",
   "mimetype": "text/x-python",
   "name": "python",
   "nbconvert_exporter": "python",
   "pygments_lexer": "ipython3",
   "version": "3.6.4"
  },
  "toc": {
   "colors": {
    "hover_highlight": "#DAA520",
    "navigate_num": "#000000",
    "navigate_text": "#333333",
    "running_highlight": "#FF0000",
    "selected_highlight": "#FFD700",
    "sidebar_border": "#EEEEEE",
    "wrapper_background": "#FFFFFF"
   },
   "moveMenuLeft": true,
   "nav_menu": {
    "height": "30px",
    "width": "252px"
   },
   "navigate_menu": true,
   "number_sections": true,
   "sideBar": true,
   "threshold": 4,
   "toc_cell": false,
   "toc_section_display": "block",
   "toc_window_display": false,
   "widenNotebook": false
  }
 },
 "nbformat": 4,
 "nbformat_minor": 2
}
